{
  "nbformat": 4,
  "nbformat_minor": 0,
  "metadata": {
    "colab": {
      "name": "Python -  Desenhar um Losango com Dígitos.ipynb",
      "provenance": [],
      "collapsed_sections": [],
      "authorship_tag": "ABX9TyNv6Whg7XEE5H7Xr2czU04z",
      "include_colab_link": true
    },
    "kernelspec": {
      "name": "python3",
      "display_name": "Python 3"
    },
    "language_info": {
      "name": "python"
    },
    "widgets": {
      "application/vnd.jupyter.widget-state+json": {
        "d382b75aa7764c3cb194e1f8c6a5a8d2": {
          "model_module": "@jupyter-widgets/controls",
          "model_name": "VBoxModel",
          "model_module_version": "1.5.0",
          "state": {
            "_view_name": "VBoxView",
            "_dom_classes": [
              "widget-interact"
            ],
            "_model_name": "VBoxModel",
            "_view_module": "@jupyter-widgets/controls",
            "_model_module_version": "1.5.0",
            "_view_count": null,
            "_view_module_version": "1.5.0",
            "box_style": "",
            "layout": "IPY_MODEL_52df744108e346dfb495ae8eded72e18",
            "_model_module": "@jupyter-widgets/controls",
            "children": [
              "IPY_MODEL_58a0032fc0624b0282557cf43716f275",
              "IPY_MODEL_5a1654fb9c29493ab9d2d5eff08f3bfd",
              "IPY_MODEL_044b410135914037825e4be622ee54a2",
              "IPY_MODEL_7a230c0da3514e17b5c3f09905cdc117"
            ]
          }
        },
        "52df744108e346dfb495ae8eded72e18": {
          "model_module": "@jupyter-widgets/base",
          "model_name": "LayoutModel",
          "model_module_version": "1.2.0",
          "state": {
            "_view_name": "LayoutView",
            "grid_template_rows": null,
            "right": null,
            "justify_content": null,
            "_view_module": "@jupyter-widgets/base",
            "overflow": null,
            "_model_module_version": "1.2.0",
            "_view_count": null,
            "flex_flow": null,
            "width": null,
            "min_width": null,
            "border": null,
            "align_items": null,
            "bottom": null,
            "_model_module": "@jupyter-widgets/base",
            "top": null,
            "grid_column": null,
            "overflow_y": null,
            "overflow_x": null,
            "grid_auto_flow": null,
            "grid_area": null,
            "grid_template_columns": null,
            "flex": null,
            "_model_name": "LayoutModel",
            "justify_items": null,
            "grid_row": null,
            "max_height": null,
            "align_content": null,
            "visibility": null,
            "align_self": null,
            "height": null,
            "min_height": null,
            "padding": null,
            "grid_auto_rows": null,
            "grid_gap": null,
            "max_width": null,
            "order": null,
            "_view_module_version": "1.2.0",
            "grid_template_areas": null,
            "object_position": null,
            "object_fit": null,
            "grid_auto_columns": null,
            "margin": null,
            "display": null,
            "left": null
          }
        },
        "58a0032fc0624b0282557cf43716f275": {
          "model_module": "@jupyter-widgets/controls",
          "model_name": "IntSliderModel",
          "model_module_version": "1.5.0",
          "state": {
            "_view_name": "IntSliderView",
            "style": "IPY_MODEL_a45898ad97654dd4ab6fa9a7f630ccf4",
            "_dom_classes": [],
            "description": "n",
            "step": 1,
            "_model_name": "IntSliderModel",
            "orientation": "horizontal",
            "max": 9,
            "_view_module": "@jupyter-widgets/controls",
            "_model_module_version": "1.5.0",
            "value": 4,
            "_view_count": null,
            "disabled": false,
            "_view_module_version": "1.5.0",
            "min": 0,
            "continuous_update": true,
            "readout_format": "d",
            "description_tooltip": null,
            "readout": true,
            "_model_module": "@jupyter-widgets/controls",
            "layout": "IPY_MODEL_6a1692b103394eef823e255e1f9fd6b2"
          }
        },
        "5a1654fb9c29493ab9d2d5eff08f3bfd": {
          "model_module": "@jupyter-widgets/controls",
          "model_name": "IntSliderModel",
          "model_module_version": "1.5.0",
          "state": {
            "_view_name": "IntSliderView",
            "style": "IPY_MODEL_59ab5623e20045b7afb3339d936cc7e7",
            "_dom_classes": [],
            "description": "largura",
            "step": 1,
            "_model_name": "IntSliderModel",
            "orientation": "horizontal",
            "max": 19,
            "_view_module": "@jupyter-widgets/controls",
            "_model_module_version": "1.5.0",
            "value": 14,
            "_view_count": null,
            "disabled": false,
            "_view_module_version": "1.5.0",
            "min": 0,
            "continuous_update": true,
            "readout_format": "d",
            "description_tooltip": null,
            "readout": true,
            "_model_module": "@jupyter-widgets/controls",
            "layout": "IPY_MODEL_9b8c53b442b04c12868b121999f80a57"
          }
        },
        "044b410135914037825e4be622ee54a2": {
          "model_module": "@jupyter-widgets/controls",
          "model_name": "TextModel",
          "model_module_version": "1.5.0",
          "state": {
            "_view_name": "TextView",
            "style": "IPY_MODEL_d33a553ead294f509024a6e607450b1b",
            "_dom_classes": [],
            "description": "separador",
            "_model_name": "TextModel",
            "placeholder": "​",
            "_view_module": "@jupyter-widgets/controls",
            "_model_module_version": "1.5.0",
            "value": ".",
            "_view_count": null,
            "disabled": false,
            "_view_module_version": "1.5.0",
            "continuous_update": true,
            "description_tooltip": null,
            "_model_module": "@jupyter-widgets/controls",
            "layout": "IPY_MODEL_29e31315360a4aef94a0858010c4e601"
          }
        },
        "7a230c0da3514e17b5c3f09905cdc117": {
          "model_module": "@jupyter-widgets/output",
          "model_name": "OutputModel",
          "model_module_version": "1.0.0",
          "state": {
            "_view_name": "OutputView",
            "msg_id": "",
            "_dom_classes": [],
            "_model_name": "OutputModel",
            "outputs": [
              {
                "output_type": "display_data",
                "data": {
                  "application/vnd.google.colaboratory.intrinsic+json": {
                    "type": "string"
                  },
                  "text/plain": "'..012343210...'"
                },
                "metadata": {}
              }
            ],
            "_view_module": "@jupyter-widgets/output",
            "_model_module_version": "1.0.0",
            "_view_count": null,
            "_view_module_version": "1.0.0",
            "layout": "IPY_MODEL_893e8abec97d46df8e5710876a708407",
            "_model_module": "@jupyter-widgets/output"
          }
        },
        "a45898ad97654dd4ab6fa9a7f630ccf4": {
          "model_module": "@jupyter-widgets/controls",
          "model_name": "SliderStyleModel",
          "model_module_version": "1.5.0",
          "state": {
            "_view_name": "StyleView",
            "handle_color": null,
            "_model_name": "SliderStyleModel",
            "description_width": "",
            "_view_module": "@jupyter-widgets/base",
            "_model_module_version": "1.5.0",
            "_view_count": null,
            "_view_module_version": "1.2.0",
            "_model_module": "@jupyter-widgets/controls"
          }
        },
        "6a1692b103394eef823e255e1f9fd6b2": {
          "model_module": "@jupyter-widgets/base",
          "model_name": "LayoutModel",
          "model_module_version": "1.2.0",
          "state": {
            "_view_name": "LayoutView",
            "grid_template_rows": null,
            "right": null,
            "justify_content": null,
            "_view_module": "@jupyter-widgets/base",
            "overflow": null,
            "_model_module_version": "1.2.0",
            "_view_count": null,
            "flex_flow": null,
            "width": null,
            "min_width": null,
            "border": null,
            "align_items": null,
            "bottom": null,
            "_model_module": "@jupyter-widgets/base",
            "top": null,
            "grid_column": null,
            "overflow_y": null,
            "overflow_x": null,
            "grid_auto_flow": null,
            "grid_area": null,
            "grid_template_columns": null,
            "flex": null,
            "_model_name": "LayoutModel",
            "justify_items": null,
            "grid_row": null,
            "max_height": null,
            "align_content": null,
            "visibility": null,
            "align_self": null,
            "height": null,
            "min_height": null,
            "padding": null,
            "grid_auto_rows": null,
            "grid_gap": null,
            "max_width": null,
            "order": null,
            "_view_module_version": "1.2.0",
            "grid_template_areas": null,
            "object_position": null,
            "object_fit": null,
            "grid_auto_columns": null,
            "margin": null,
            "display": null,
            "left": null
          }
        },
        "59ab5623e20045b7afb3339d936cc7e7": {
          "model_module": "@jupyter-widgets/controls",
          "model_name": "SliderStyleModel",
          "model_module_version": "1.5.0",
          "state": {
            "_view_name": "StyleView",
            "handle_color": null,
            "_model_name": "SliderStyleModel",
            "description_width": "",
            "_view_module": "@jupyter-widgets/base",
            "_model_module_version": "1.5.0",
            "_view_count": null,
            "_view_module_version": "1.2.0",
            "_model_module": "@jupyter-widgets/controls"
          }
        },
        "9b8c53b442b04c12868b121999f80a57": {
          "model_module": "@jupyter-widgets/base",
          "model_name": "LayoutModel",
          "model_module_version": "1.2.0",
          "state": {
            "_view_name": "LayoutView",
            "grid_template_rows": null,
            "right": null,
            "justify_content": null,
            "_view_module": "@jupyter-widgets/base",
            "overflow": null,
            "_model_module_version": "1.2.0",
            "_view_count": null,
            "flex_flow": null,
            "width": null,
            "min_width": null,
            "border": null,
            "align_items": null,
            "bottom": null,
            "_model_module": "@jupyter-widgets/base",
            "top": null,
            "grid_column": null,
            "overflow_y": null,
            "overflow_x": null,
            "grid_auto_flow": null,
            "grid_area": null,
            "grid_template_columns": null,
            "flex": null,
            "_model_name": "LayoutModel",
            "justify_items": null,
            "grid_row": null,
            "max_height": null,
            "align_content": null,
            "visibility": null,
            "align_self": null,
            "height": null,
            "min_height": null,
            "padding": null,
            "grid_auto_rows": null,
            "grid_gap": null,
            "max_width": null,
            "order": null,
            "_view_module_version": "1.2.0",
            "grid_template_areas": null,
            "object_position": null,
            "object_fit": null,
            "grid_auto_columns": null,
            "margin": null,
            "display": null,
            "left": null
          }
        },
        "d33a553ead294f509024a6e607450b1b": {
          "model_module": "@jupyter-widgets/controls",
          "model_name": "DescriptionStyleModel",
          "model_module_version": "1.5.0",
          "state": {
            "_view_name": "StyleView",
            "_model_name": "DescriptionStyleModel",
            "description_width": "",
            "_view_module": "@jupyter-widgets/base",
            "_model_module_version": "1.5.0",
            "_view_count": null,
            "_view_module_version": "1.2.0",
            "_model_module": "@jupyter-widgets/controls"
          }
        },
        "29e31315360a4aef94a0858010c4e601": {
          "model_module": "@jupyter-widgets/base",
          "model_name": "LayoutModel",
          "model_module_version": "1.2.0",
          "state": {
            "_view_name": "LayoutView",
            "grid_template_rows": null,
            "right": null,
            "justify_content": null,
            "_view_module": "@jupyter-widgets/base",
            "overflow": null,
            "_model_module_version": "1.2.0",
            "_view_count": null,
            "flex_flow": null,
            "width": null,
            "min_width": null,
            "border": null,
            "align_items": null,
            "bottom": null,
            "_model_module": "@jupyter-widgets/base",
            "top": null,
            "grid_column": null,
            "overflow_y": null,
            "overflow_x": null,
            "grid_auto_flow": null,
            "grid_area": null,
            "grid_template_columns": null,
            "flex": null,
            "_model_name": "LayoutModel",
            "justify_items": null,
            "grid_row": null,
            "max_height": null,
            "align_content": null,
            "visibility": null,
            "align_self": null,
            "height": null,
            "min_height": null,
            "padding": null,
            "grid_auto_rows": null,
            "grid_gap": null,
            "max_width": null,
            "order": null,
            "_view_module_version": "1.2.0",
            "grid_template_areas": null,
            "object_position": null,
            "object_fit": null,
            "grid_auto_columns": null,
            "margin": null,
            "display": null,
            "left": null
          }
        },
        "893e8abec97d46df8e5710876a708407": {
          "model_module": "@jupyter-widgets/base",
          "model_name": "LayoutModel",
          "model_module_version": "1.2.0",
          "state": {
            "_view_name": "LayoutView",
            "grid_template_rows": null,
            "right": null,
            "justify_content": null,
            "_view_module": "@jupyter-widgets/base",
            "overflow": null,
            "_model_module_version": "1.2.0",
            "_view_count": null,
            "flex_flow": null,
            "width": null,
            "min_width": null,
            "border": null,
            "align_items": null,
            "bottom": null,
            "_model_module": "@jupyter-widgets/base",
            "top": null,
            "grid_column": null,
            "overflow_y": null,
            "overflow_x": null,
            "grid_auto_flow": null,
            "grid_area": null,
            "grid_template_columns": null,
            "flex": null,
            "_model_name": "LayoutModel",
            "justify_items": null,
            "grid_row": null,
            "max_height": null,
            "align_content": null,
            "visibility": null,
            "align_self": null,
            "height": null,
            "min_height": null,
            "padding": null,
            "grid_auto_rows": null,
            "grid_gap": null,
            "max_width": null,
            "order": null,
            "_view_module_version": "1.2.0",
            "grid_template_areas": null,
            "object_position": null,
            "object_fit": null,
            "grid_auto_columns": null,
            "margin": null,
            "display": null,
            "left": null
          }
        },
        "2582e4cd85674dffbae6eb178eefbc9e": {
          "model_module": "@jupyter-widgets/controls",
          "model_name": "VBoxModel",
          "model_module_version": "1.5.0",
          "state": {
            "_view_name": "VBoxView",
            "_dom_classes": [
              "widget-interact"
            ],
            "_model_name": "VBoxModel",
            "_view_module": "@jupyter-widgets/controls",
            "_model_module_version": "1.5.0",
            "_view_count": null,
            "_view_module_version": "1.5.0",
            "box_style": "",
            "layout": "IPY_MODEL_ac0c38a8b5bf407e8cfd0d5fc8969fc5",
            "_model_module": "@jupyter-widgets/controls",
            "children": [
              "IPY_MODEL_e49a25226f584de5a635506118e91528",
              "IPY_MODEL_e71acd6a10c7476d930fe419dbe34496"
            ]
          }
        },
        "ac0c38a8b5bf407e8cfd0d5fc8969fc5": {
          "model_module": "@jupyter-widgets/base",
          "model_name": "LayoutModel",
          "model_module_version": "1.2.0",
          "state": {
            "_view_name": "LayoutView",
            "grid_template_rows": null,
            "right": null,
            "justify_content": null,
            "_view_module": "@jupyter-widgets/base",
            "overflow": null,
            "_model_module_version": "1.2.0",
            "_view_count": null,
            "flex_flow": null,
            "width": null,
            "min_width": null,
            "border": null,
            "align_items": null,
            "bottom": null,
            "_model_module": "@jupyter-widgets/base",
            "top": null,
            "grid_column": null,
            "overflow_y": null,
            "overflow_x": null,
            "grid_auto_flow": null,
            "grid_area": null,
            "grid_template_columns": null,
            "flex": null,
            "_model_name": "LayoutModel",
            "justify_items": null,
            "grid_row": null,
            "max_height": null,
            "align_content": null,
            "visibility": null,
            "align_self": null,
            "height": null,
            "min_height": null,
            "padding": null,
            "grid_auto_rows": null,
            "grid_gap": null,
            "max_width": null,
            "order": null,
            "_view_module_version": "1.2.0",
            "grid_template_areas": null,
            "object_position": null,
            "object_fit": null,
            "grid_auto_columns": null,
            "margin": null,
            "display": null,
            "left": null
          }
        },
        "e49a25226f584de5a635506118e91528": {
          "model_module": "@jupyter-widgets/controls",
          "model_name": "IntSliderModel",
          "model_module_version": "1.5.0",
          "state": {
            "_view_name": "IntSliderView",
            "style": "IPY_MODEL_e542ae5663a94f8a8552eece107541b5",
            "_dom_classes": [],
            "description": "n",
            "step": 1,
            "_model_name": "IntSliderModel",
            "orientation": "horizontal",
            "max": 9,
            "_view_module": "@jupyter-widgets/controls",
            "_model_module_version": "1.5.0",
            "value": 4,
            "_view_count": null,
            "disabled": false,
            "_view_module_version": "1.5.0",
            "min": 0,
            "continuous_update": true,
            "readout_format": "d",
            "description_tooltip": null,
            "readout": true,
            "_model_module": "@jupyter-widgets/controls",
            "layout": "IPY_MODEL_8b6301c968dd4e2f8edbd76d23682581"
          }
        },
        "e71acd6a10c7476d930fe419dbe34496": {
          "model_module": "@jupyter-widgets/output",
          "model_name": "OutputModel",
          "model_module_version": "1.0.0",
          "state": {
            "_view_name": "OutputView",
            "msg_id": "",
            "_dom_classes": [],
            "_model_name": "OutputModel",
            "outputs": [
              {
                "output_type": "stream",
                "name": "stdout",
                "text": [
                  "    0    \n",
                  "   010   \n",
                  "  01210  \n",
                  " 0123210 \n",
                  "012343210\n",
                  " 0123210 \n",
                  "  01210  \n",
                  "   010   \n",
                  "    0    \n"
                ]
              }
            ],
            "_view_module": "@jupyter-widgets/output",
            "_model_module_version": "1.0.0",
            "_view_count": null,
            "_view_module_version": "1.0.0",
            "layout": "IPY_MODEL_dba002267ed940e1b0b71c2ce5be3d0a",
            "_model_module": "@jupyter-widgets/output"
          }
        },
        "e542ae5663a94f8a8552eece107541b5": {
          "model_module": "@jupyter-widgets/controls",
          "model_name": "SliderStyleModel",
          "model_module_version": "1.5.0",
          "state": {
            "_view_name": "StyleView",
            "handle_color": null,
            "_model_name": "SliderStyleModel",
            "description_width": "",
            "_view_module": "@jupyter-widgets/base",
            "_model_module_version": "1.5.0",
            "_view_count": null,
            "_view_module_version": "1.2.0",
            "_model_module": "@jupyter-widgets/controls"
          }
        },
        "8b6301c968dd4e2f8edbd76d23682581": {
          "model_module": "@jupyter-widgets/base",
          "model_name": "LayoutModel",
          "model_module_version": "1.2.0",
          "state": {
            "_view_name": "LayoutView",
            "grid_template_rows": null,
            "right": null,
            "justify_content": null,
            "_view_module": "@jupyter-widgets/base",
            "overflow": null,
            "_model_module_version": "1.2.0",
            "_view_count": null,
            "flex_flow": null,
            "width": null,
            "min_width": null,
            "border": null,
            "align_items": null,
            "bottom": null,
            "_model_module": "@jupyter-widgets/base",
            "top": null,
            "grid_column": null,
            "overflow_y": null,
            "overflow_x": null,
            "grid_auto_flow": null,
            "grid_area": null,
            "grid_template_columns": null,
            "flex": null,
            "_model_name": "LayoutModel",
            "justify_items": null,
            "grid_row": null,
            "max_height": null,
            "align_content": null,
            "visibility": null,
            "align_self": null,
            "height": null,
            "min_height": null,
            "padding": null,
            "grid_auto_rows": null,
            "grid_gap": null,
            "max_width": null,
            "order": null,
            "_view_module_version": "1.2.0",
            "grid_template_areas": null,
            "object_position": null,
            "object_fit": null,
            "grid_auto_columns": null,
            "margin": null,
            "display": null,
            "left": null
          }
        },
        "dba002267ed940e1b0b71c2ce5be3d0a": {
          "model_module": "@jupyter-widgets/base",
          "model_name": "LayoutModel",
          "model_module_version": "1.2.0",
          "state": {
            "_view_name": "LayoutView",
            "grid_template_rows": null,
            "right": null,
            "justify_content": null,
            "_view_module": "@jupyter-widgets/base",
            "overflow": null,
            "_model_module_version": "1.2.0",
            "_view_count": null,
            "flex_flow": null,
            "width": null,
            "min_width": null,
            "border": null,
            "align_items": null,
            "bottom": null,
            "_model_module": "@jupyter-widgets/base",
            "top": null,
            "grid_column": null,
            "overflow_y": null,
            "overflow_x": null,
            "grid_auto_flow": null,
            "grid_area": null,
            "grid_template_columns": null,
            "flex": null,
            "_model_name": "LayoutModel",
            "justify_items": null,
            "grid_row": null,
            "max_height": null,
            "align_content": null,
            "visibility": null,
            "align_self": null,
            "height": null,
            "min_height": null,
            "padding": null,
            "grid_auto_rows": null,
            "grid_gap": null,
            "max_width": null,
            "order": null,
            "_view_module_version": "1.2.0",
            "grid_template_areas": null,
            "object_position": null,
            "object_fit": null,
            "grid_auto_columns": null,
            "margin": null,
            "display": null,
            "left": null
          }
        },
        "74881263da384760af5b0813910bfde4": {
          "model_module": "@jupyter-widgets/controls",
          "model_name": "VBoxModel",
          "model_module_version": "1.5.0",
          "state": {
            "_view_name": "VBoxView",
            "_dom_classes": [
              "widget-interact"
            ],
            "_model_name": "VBoxModel",
            "_view_module": "@jupyter-widgets/controls",
            "_model_module_version": "1.5.0",
            "_view_count": null,
            "_view_module_version": "1.5.0",
            "box_style": "",
            "layout": "IPY_MODEL_72b5868ea1d64e55ac9d9901388af214",
            "_model_module": "@jupyter-widgets/controls",
            "children": [
              "IPY_MODEL_eabb52f4978a426ca1e8cdf1b25ecbee",
              "IPY_MODEL_43252c010c1d432f89fdaf06f134c8a7"
            ]
          }
        },
        "72b5868ea1d64e55ac9d9901388af214": {
          "model_module": "@jupyter-widgets/base",
          "model_name": "LayoutModel",
          "model_module_version": "1.2.0",
          "state": {
            "_view_name": "LayoutView",
            "grid_template_rows": null,
            "right": null,
            "justify_content": null,
            "_view_module": "@jupyter-widgets/base",
            "overflow": null,
            "_model_module_version": "1.2.0",
            "_view_count": null,
            "flex_flow": null,
            "width": null,
            "min_width": null,
            "border": null,
            "align_items": null,
            "bottom": null,
            "_model_module": "@jupyter-widgets/base",
            "top": null,
            "grid_column": null,
            "overflow_y": null,
            "overflow_x": null,
            "grid_auto_flow": null,
            "grid_area": null,
            "grid_template_columns": null,
            "flex": null,
            "_model_name": "LayoutModel",
            "justify_items": null,
            "grid_row": null,
            "max_height": null,
            "align_content": null,
            "visibility": null,
            "align_self": null,
            "height": null,
            "min_height": null,
            "padding": null,
            "grid_auto_rows": null,
            "grid_gap": null,
            "max_width": null,
            "order": null,
            "_view_module_version": "1.2.0",
            "grid_template_areas": null,
            "object_position": null,
            "object_fit": null,
            "grid_auto_columns": null,
            "margin": null,
            "display": null,
            "left": null
          }
        },
        "eabb52f4978a426ca1e8cdf1b25ecbee": {
          "model_module": "@jupyter-widgets/controls",
          "model_name": "IntSliderModel",
          "model_module_version": "1.5.0",
          "state": {
            "_view_name": "IntSliderView",
            "style": "IPY_MODEL_b0d1a1992396429d8826cf0358532864",
            "_dom_classes": [],
            "description": "n",
            "step": 1,
            "_model_name": "IntSliderModel",
            "orientation": "horizontal",
            "max": 9,
            "_view_module": "@jupyter-widgets/controls",
            "_model_module_version": "1.5.0",
            "value": 7,
            "_view_count": null,
            "disabled": false,
            "_view_module_version": "1.5.0",
            "min": 0,
            "continuous_update": true,
            "readout_format": "d",
            "description_tooltip": null,
            "readout": true,
            "_model_module": "@jupyter-widgets/controls",
            "layout": "IPY_MODEL_70269fa802324f0d8cce2a708385b9b5"
          }
        },
        "43252c010c1d432f89fdaf06f134c8a7": {
          "model_module": "@jupyter-widgets/output",
          "model_name": "OutputModel",
          "model_module_version": "1.0.0",
          "state": {
            "_view_name": "OutputView",
            "msg_id": "",
            "_dom_classes": [],
            "_model_name": "OutputModel",
            "outputs": [
              {
                "output_type": "stream",
                "name": "stdout",
                "text": [
                  "       0       \n",
                  "      010      \n",
                  "     01210     \n",
                  "    0123210    \n",
                  "   012343210   \n",
                  "  01234543210  \n",
                  " 0123456543210 \n",
                  "012345676543210\n",
                  " 0123456543210 \n",
                  "  01234543210  \n",
                  "   012343210   \n",
                  "    0123210    \n",
                  "     01210     \n",
                  "      010      \n",
                  "       0       \n"
                ]
              }
            ],
            "_view_module": "@jupyter-widgets/output",
            "_model_module_version": "1.0.0",
            "_view_count": null,
            "_view_module_version": "1.0.0",
            "layout": "IPY_MODEL_b326ea6556684d4a971b1ad94a66926d",
            "_model_module": "@jupyter-widgets/output"
          }
        },
        "b0d1a1992396429d8826cf0358532864": {
          "model_module": "@jupyter-widgets/controls",
          "model_name": "SliderStyleModel",
          "model_module_version": "1.5.0",
          "state": {
            "_view_name": "StyleView",
            "handle_color": null,
            "_model_name": "SliderStyleModel",
            "description_width": "",
            "_view_module": "@jupyter-widgets/base",
            "_model_module_version": "1.5.0",
            "_view_count": null,
            "_view_module_version": "1.2.0",
            "_model_module": "@jupyter-widgets/controls"
          }
        },
        "70269fa802324f0d8cce2a708385b9b5": {
          "model_module": "@jupyter-widgets/base",
          "model_name": "LayoutModel",
          "model_module_version": "1.2.0",
          "state": {
            "_view_name": "LayoutView",
            "grid_template_rows": null,
            "right": null,
            "justify_content": null,
            "_view_module": "@jupyter-widgets/base",
            "overflow": null,
            "_model_module_version": "1.2.0",
            "_view_count": null,
            "flex_flow": null,
            "width": null,
            "min_width": null,
            "border": null,
            "align_items": null,
            "bottom": null,
            "_model_module": "@jupyter-widgets/base",
            "top": null,
            "grid_column": null,
            "overflow_y": null,
            "overflow_x": null,
            "grid_auto_flow": null,
            "grid_area": null,
            "grid_template_columns": null,
            "flex": null,
            "_model_name": "LayoutModel",
            "justify_items": null,
            "grid_row": null,
            "max_height": null,
            "align_content": null,
            "visibility": null,
            "align_self": null,
            "height": null,
            "min_height": null,
            "padding": null,
            "grid_auto_rows": null,
            "grid_gap": null,
            "max_width": null,
            "order": null,
            "_view_module_version": "1.2.0",
            "grid_template_areas": null,
            "object_position": null,
            "object_fit": null,
            "grid_auto_columns": null,
            "margin": null,
            "display": null,
            "left": null
          }
        },
        "b326ea6556684d4a971b1ad94a66926d": {
          "model_module": "@jupyter-widgets/base",
          "model_name": "LayoutModel",
          "model_module_version": "1.2.0",
          "state": {
            "_view_name": "LayoutView",
            "grid_template_rows": null,
            "right": null,
            "justify_content": null,
            "_view_module": "@jupyter-widgets/base",
            "overflow": null,
            "_model_module_version": "1.2.0",
            "_view_count": null,
            "flex_flow": null,
            "width": null,
            "min_width": null,
            "border": null,
            "align_items": null,
            "bottom": null,
            "_model_module": "@jupyter-widgets/base",
            "top": null,
            "grid_column": null,
            "overflow_y": null,
            "overflow_x": null,
            "grid_auto_flow": null,
            "grid_area": null,
            "grid_template_columns": null,
            "flex": null,
            "_model_name": "LayoutModel",
            "justify_items": null,
            "grid_row": null,
            "max_height": null,
            "align_content": null,
            "visibility": null,
            "align_self": null,
            "height": null,
            "min_height": null,
            "padding": null,
            "grid_auto_rows": null,
            "grid_gap": null,
            "max_width": null,
            "order": null,
            "_view_module_version": "1.2.0",
            "grid_template_areas": null,
            "object_position": null,
            "object_fit": null,
            "grid_auto_columns": null,
            "margin": null,
            "display": null,
            "left": null
          }
        },
        "f702ef2b2fdb4d17a97d927e55c4dcbb": {
          "model_module": "@jupyter-widgets/controls",
          "model_name": "VBoxModel",
          "model_module_version": "1.5.0",
          "state": {
            "_view_name": "VBoxView",
            "_dom_classes": [
              "widget-interact"
            ],
            "_model_name": "VBoxModel",
            "_view_module": "@jupyter-widgets/controls",
            "_model_module_version": "1.5.0",
            "_view_count": null,
            "_view_module_version": "1.5.0",
            "box_style": "",
            "layout": "IPY_MODEL_9b4917a1873c4e6998e4c830c2f03e09",
            "_model_module": "@jupyter-widgets/controls",
            "children": [
              "IPY_MODEL_d815b779d066449ab07eb25710d2c9d7",
              "IPY_MODEL_20246ee1daa0472284c2e6d752948ed5",
              "IPY_MODEL_42e622b4abd84adbb854114e5f7c34f0"
            ]
          }
        },
        "9b4917a1873c4e6998e4c830c2f03e09": {
          "model_module": "@jupyter-widgets/base",
          "model_name": "LayoutModel",
          "model_module_version": "1.2.0",
          "state": {
            "_view_name": "LayoutView",
            "grid_template_rows": null,
            "right": null,
            "justify_content": null,
            "_view_module": "@jupyter-widgets/base",
            "overflow": null,
            "_model_module_version": "1.2.0",
            "_view_count": null,
            "flex_flow": null,
            "width": null,
            "min_width": null,
            "border": null,
            "align_items": null,
            "bottom": null,
            "_model_module": "@jupyter-widgets/base",
            "top": null,
            "grid_column": null,
            "overflow_y": null,
            "overflow_x": null,
            "grid_auto_flow": null,
            "grid_area": null,
            "grid_template_columns": null,
            "flex": null,
            "_model_name": "LayoutModel",
            "justify_items": null,
            "grid_row": null,
            "max_height": null,
            "align_content": null,
            "visibility": null,
            "align_self": null,
            "height": null,
            "min_height": null,
            "padding": null,
            "grid_auto_rows": null,
            "grid_gap": null,
            "max_width": null,
            "order": null,
            "_view_module_version": "1.2.0",
            "grid_template_areas": null,
            "object_position": null,
            "object_fit": null,
            "grid_auto_columns": null,
            "margin": null,
            "display": null,
            "left": null
          }
        },
        "d815b779d066449ab07eb25710d2c9d7": {
          "model_module": "@jupyter-widgets/controls",
          "model_name": "IntSliderModel",
          "model_module_version": "1.5.0",
          "state": {
            "_view_name": "IntSliderView",
            "style": "IPY_MODEL_82fd8e7b71d24db9a66d69568b69e8d6",
            "_dom_classes": [],
            "description": "n",
            "step": 1,
            "_model_name": "IntSliderModel",
            "orientation": "horizontal",
            "max": 9,
            "_view_module": "@jupyter-widgets/controls",
            "_model_module_version": "1.5.0",
            "value": 4,
            "_view_count": null,
            "disabled": false,
            "_view_module_version": "1.5.0",
            "min": 0,
            "continuous_update": true,
            "readout_format": "d",
            "description_tooltip": null,
            "readout": true,
            "_model_module": "@jupyter-widgets/controls",
            "layout": "IPY_MODEL_8cc9f83c2ed24e3ca9887178c4a0d5a1"
          }
        },
        "20246ee1daa0472284c2e6d752948ed5": {
          "model_module": "@jupyter-widgets/controls",
          "model_name": "TextModel",
          "model_module_version": "1.5.0",
          "state": {
            "_view_name": "TextView",
            "style": "IPY_MODEL_80b19750d6534c1d8e40f3569563b7f3",
            "_dom_classes": [],
            "description": "sep",
            "_model_name": "TextModel",
            "placeholder": "​",
            "_view_module": "@jupyter-widgets/controls",
            "_model_module_version": "1.5.0",
            "value": ".",
            "_view_count": null,
            "disabled": false,
            "_view_module_version": "1.5.0",
            "continuous_update": true,
            "description_tooltip": null,
            "_model_module": "@jupyter-widgets/controls",
            "layout": "IPY_MODEL_0b27b3e39b6241958e446e39808a9114"
          }
        },
        "42e622b4abd84adbb854114e5f7c34f0": {
          "model_module": "@jupyter-widgets/output",
          "model_name": "OutputModel",
          "model_module_version": "1.0.0",
          "state": {
            "_view_name": "OutputView",
            "msg_id": "",
            "_dom_classes": [],
            "_model_name": "OutputModel",
            "outputs": [
              {
                "output_type": "stream",
                "name": "stdout",
                "text": [
                  "....0....\n",
                  "...010...\n",
                  "..01210..\n",
                  ".0123210.\n",
                  "012343210\n",
                  ".0123210.\n",
                  "..01210..\n",
                  "...010...\n",
                  "....0....\n"
                ]
              }
            ],
            "_view_module": "@jupyter-widgets/output",
            "_model_module_version": "1.0.0",
            "_view_count": null,
            "_view_module_version": "1.0.0",
            "layout": "IPY_MODEL_14b51fe59f2245e698bd17a8ddf333c0",
            "_model_module": "@jupyter-widgets/output"
          }
        },
        "82fd8e7b71d24db9a66d69568b69e8d6": {
          "model_module": "@jupyter-widgets/controls",
          "model_name": "SliderStyleModel",
          "model_module_version": "1.5.0",
          "state": {
            "_view_name": "StyleView",
            "handle_color": null,
            "_model_name": "SliderStyleModel",
            "description_width": "",
            "_view_module": "@jupyter-widgets/base",
            "_model_module_version": "1.5.0",
            "_view_count": null,
            "_view_module_version": "1.2.0",
            "_model_module": "@jupyter-widgets/controls"
          }
        },
        "8cc9f83c2ed24e3ca9887178c4a0d5a1": {
          "model_module": "@jupyter-widgets/base",
          "model_name": "LayoutModel",
          "model_module_version": "1.2.0",
          "state": {
            "_view_name": "LayoutView",
            "grid_template_rows": null,
            "right": null,
            "justify_content": null,
            "_view_module": "@jupyter-widgets/base",
            "overflow": null,
            "_model_module_version": "1.2.0",
            "_view_count": null,
            "flex_flow": null,
            "width": null,
            "min_width": null,
            "border": null,
            "align_items": null,
            "bottom": null,
            "_model_module": "@jupyter-widgets/base",
            "top": null,
            "grid_column": null,
            "overflow_y": null,
            "overflow_x": null,
            "grid_auto_flow": null,
            "grid_area": null,
            "grid_template_columns": null,
            "flex": null,
            "_model_name": "LayoutModel",
            "justify_items": null,
            "grid_row": null,
            "max_height": null,
            "align_content": null,
            "visibility": null,
            "align_self": null,
            "height": null,
            "min_height": null,
            "padding": null,
            "grid_auto_rows": null,
            "grid_gap": null,
            "max_width": null,
            "order": null,
            "_view_module_version": "1.2.0",
            "grid_template_areas": null,
            "object_position": null,
            "object_fit": null,
            "grid_auto_columns": null,
            "margin": null,
            "display": null,
            "left": null
          }
        },
        "80b19750d6534c1d8e40f3569563b7f3": {
          "model_module": "@jupyter-widgets/controls",
          "model_name": "DescriptionStyleModel",
          "model_module_version": "1.5.0",
          "state": {
            "_view_name": "StyleView",
            "_model_name": "DescriptionStyleModel",
            "description_width": "",
            "_view_module": "@jupyter-widgets/base",
            "_model_module_version": "1.5.0",
            "_view_count": null,
            "_view_module_version": "1.2.0",
            "_model_module": "@jupyter-widgets/controls"
          }
        },
        "0b27b3e39b6241958e446e39808a9114": {
          "model_module": "@jupyter-widgets/base",
          "model_name": "LayoutModel",
          "model_module_version": "1.2.0",
          "state": {
            "_view_name": "LayoutView",
            "grid_template_rows": null,
            "right": null,
            "justify_content": null,
            "_view_module": "@jupyter-widgets/base",
            "overflow": null,
            "_model_module_version": "1.2.0",
            "_view_count": null,
            "flex_flow": null,
            "width": null,
            "min_width": null,
            "border": null,
            "align_items": null,
            "bottom": null,
            "_model_module": "@jupyter-widgets/base",
            "top": null,
            "grid_column": null,
            "overflow_y": null,
            "overflow_x": null,
            "grid_auto_flow": null,
            "grid_area": null,
            "grid_template_columns": null,
            "flex": null,
            "_model_name": "LayoutModel",
            "justify_items": null,
            "grid_row": null,
            "max_height": null,
            "align_content": null,
            "visibility": null,
            "align_self": null,
            "height": null,
            "min_height": null,
            "padding": null,
            "grid_auto_rows": null,
            "grid_gap": null,
            "max_width": null,
            "order": null,
            "_view_module_version": "1.2.0",
            "grid_template_areas": null,
            "object_position": null,
            "object_fit": null,
            "grid_auto_columns": null,
            "margin": null,
            "display": null,
            "left": null
          }
        },
        "14b51fe59f2245e698bd17a8ddf333c0": {
          "model_module": "@jupyter-widgets/base",
          "model_name": "LayoutModel",
          "model_module_version": "1.2.0",
          "state": {
            "_view_name": "LayoutView",
            "grid_template_rows": null,
            "right": null,
            "justify_content": null,
            "_view_module": "@jupyter-widgets/base",
            "overflow": null,
            "_model_module_version": "1.2.0",
            "_view_count": null,
            "flex_flow": null,
            "width": null,
            "min_width": null,
            "border": null,
            "align_items": null,
            "bottom": null,
            "_model_module": "@jupyter-widgets/base",
            "top": null,
            "grid_column": null,
            "overflow_y": null,
            "overflow_x": null,
            "grid_auto_flow": null,
            "grid_area": null,
            "grid_template_columns": null,
            "flex": null,
            "_model_name": "LayoutModel",
            "justify_items": null,
            "grid_row": null,
            "max_height": null,
            "align_content": null,
            "visibility": null,
            "align_self": null,
            "height": null,
            "min_height": null,
            "padding": null,
            "grid_auto_rows": null,
            "grid_gap": null,
            "max_width": null,
            "order": null,
            "_view_module_version": "1.2.0",
            "grid_template_areas": null,
            "object_position": null,
            "object_fit": null,
            "grid_auto_columns": null,
            "margin": null,
            "display": null,
            "left": null
          }
        }
      }
    }
  },
  "cells": [
    {
      "cell_type": "markdown",
      "metadata": {
        "id": "view-in-github",
        "colab_type": "text"
      },
      "source": [
        "<a href=\"https://colab.research.google.com/github/wilkneMaia/Desenhar-losango-com-digitos/blob/main/Python_Desenhar_um_Losango_com_D%C3%ADgitos.ipynb\" target=\"_parent\"><img src=\"https://colab.research.google.com/assets/colab-badge.svg\" alt=\"Open In Colab\"/></a>"
      ]
    },
    {
      "cell_type": "markdown",
      "metadata": {
        "id": "v7xRknSUEZto"
      },
      "source": [
        "<p align=\"center\">\n",
        "    <a href=\"https://www.linkedin.com/in/wilknemaia/\">\n",
        "        <img src=\"https://img.shields.io/badge/author-wilknemaia-red.svg\" />\n",
        "    </a>\n",
        "    <img src=\"/img/python-logo.svg\">\n",
        "    </a>\n",
        "</p>\n",
        "\n",
        "# Wilkne Maia\n",
        "\n",
        "**Background in:** Python."
      ]
    },
    {
      "cell_type": "markdown",
      "metadata": {
        "id": "Pa1wax_L30Ss"
      },
      "source": [
        "# Desenhar um Losango em Texto."
      ]
    },
    {
      "cell_type": "markdown",
      "metadata": {
        "id": "sq35IKI20Dw5"
      },
      "source": [
        "## O Problema\n",
        "\n",
        "Esse desafio é o caso clássico onde ir direto no alvo é mais difícil do que comer pelas beiradas.\n",
        "\n",
        "1. Ir direto vai fazer focar no output se perdendo em loops e manipulações de `strings`.\n",
        "2. Comer pelas beiradas implica em decompor o problema em problemas menores."
      ]
    },
    {
      "cell_type": "markdown",
      "metadata": {
        "id": "VeVG_UvPxmdW"
      },
      "source": [
        "## Qual a estratégia?"
      ]
    },
    {
      "cell_type": "markdown",
      "metadata": {
        "id": "rqLuBIfaX5bA"
      },
      "source": [
        "1. Como centralizar os números na linha?\n",
        "2. Como criar o intervalo de 0...N...0?\n",
        "3. Como transformar o intervalo em texto?\n",
        "4. Como gerar a linha em texto a parti do intervalo?\n",
        "5. Como gerar o losango com uma pilha de linhas?"
      ]
    },
    {
      "cell_type": "markdown",
      "metadata": {
        "id": "Vrq2XmcrY1-C"
      },
      "source": [
        "## Como centralizar os números?"
      ]
    },
    {
      "cell_type": "markdown",
      "metadata": {
        "id": "xj1EU3XB5dhN"
      },
      "source": [
        "margem = O numero de elementos da maior linha `menos` o numero da linha atual `dividido por 2`."
      ]
    },
    {
      "cell_type": "code",
      "metadata": {
        "id": "hHIZQ_RTXmMj"
      },
      "source": [
        "# função `centraliza`\n",
        "def centraliza(texto, largura):\n",
        "  margem = (largura - len(texto)) // 2\n",
        "  return ' ' * margem + texto + ' ' * margem\n",
        "\n",
        "# saída de dados esperada.\n",
        "assert centraliza('0', 5) == '  0  '\n",
        "assert centraliza('010', 5) == ' 010 '\n",
        "assert centraliza('01210', 5) == '01210'\n",
        "\n",
        "# `assert` auxilia na depuração, verificando a sanidade interna do programa."
      ],
      "execution_count": null,
      "outputs": []
    },
    {
      "cell_type": "markdown",
      "metadata": {
        "id": "GqaYAARF8lf6"
      },
      "source": [
        "### String format"
      ]
    },
    {
      "cell_type": "markdown",
      "metadata": {
        "id": "AA4iyOpS-CsU"
      },
      "source": [
        "O `String` format aceita parametrizar varias coisas interessantes:<br />\n",
        "Definir a largura, inserir variável e colocar o separador."
      ]
    },
    {
      "cell_type": "code",
      "metadata": {
        "colab": {
          "base_uri": "https://localhost:8080/",
          "height": 35
        },
        "id": "7P2YmIjobRzv",
        "outputId": "1f775101-f4e4-4faa-edaa-6cf2b0542eb6"
      },
      "source": [
        "# String format\n",
        "'{texto:{separador}^{largura}}'.format(texto='0', separador=' ', largura=5)"
      ],
      "execution_count": null,
      "outputs": [
        {
          "output_type": "execute_result",
          "data": {
            "application/vnd.google.colaboratory.intrinsic+json": {
              "type": "string"
            },
            "text/plain": [
              "'  0  '"
            ]
          },
          "metadata": {},
          "execution_count": 3
        }
      ]
    },
    {
      "cell_type": "code",
      "metadata": {
        "id": "9hmDQgx6cvwe"
      },
      "source": [
        "# função `centraliza`\n",
        "def centraliza(texto, largura):\n",
        "  # String format\n",
        "  return '{texto:{separador}^{largura}}'.format(texto=texto, separador=' ', largura=largura)\n",
        "\n",
        "# saída de dados esperada.\n",
        "assert centraliza('0', 5) == '  0  '\n",
        "assert centraliza('010', 5) == ' 010 '\n",
        "assert centraliza('01210', 5) == '01210'"
      ],
      "execution_count": null,
      "outputs": []
    },
    {
      "cell_type": "markdown",
      "metadata": {
        "id": "ncDbHfTwevae"
      },
      "source": [
        "### String format literal"
      ]
    },
    {
      "cell_type": "markdown",
      "metadata": {
        "id": "KBdi5LUDCAQt"
      },
      "source": [
        "O `Python 3.7` tem o String format literal.<br />\n",
        "Ao colocar `f`, sinaliza que esta string `'{texto:{separador}^{largura}}'` é pra executar o format com o escopo local.<br />\n",
        "E coloca o `separador=' '` em cima."
      ]
    },
    {
      "cell_type": "code",
      "metadata": {
        "id": "HzHsr-Z0dVuy"
      },
      "source": [
        "# função `centraliza`\n",
        "def centraliza(texto, largura, separador=' '):\n",
        "  # String format literal\n",
        "  return f'{texto:{separador}^{largura}}'\n",
        "\n",
        "# saída de dados esperada.\n",
        "assert centraliza('0', 5) == '  0  '\n",
        "assert centraliza('010', 5) == ' 010 '\n",
        "assert centraliza('01210', 5) == '01210'"
      ],
      "execution_count": null,
      "outputs": []
    },
    {
      "cell_type": "markdown",
      "metadata": {
        "id": "lHd1QWQHe42U"
      },
      "source": [
        "## Como criar o intervalo de 0...N...0?"
      ]
    },
    {
      "cell_type": "markdown",
      "metadata": {
        "id": "vGROd60KFa12"
      },
      "source": [
        "O função `if()` é uma estrutura condicional."
      ]
    },
    {
      "cell_type": "code",
      "metadata": {
        "id": "3KuI7ZNGgAfh"
      },
      "source": [
        "# função `intervalo`.\n",
        "def intervalo(n):\n",
        "  if n == 1:\n",
        "    return [0, 1, 0]\n",
        "  if n == 2:\n",
        "    return [0, 1, 2, 1, 0]\n",
        "  if n == 9:\n",
        "    return [0, 1, 2, 3, 4, 5, 6, 7, 8, 9, 8, 7, 6, 5, 4, 3, 2, 1, 0]\n",
        "\n",
        "# saída de dados esperada.\n",
        "  assert intervalo(0) == [0]\n",
        "  assert intervalo(1) == [0, 1, 0]\n",
        "  assert intervalo(2) == [0, 1, 2, 1, 0]\n",
        "  assert intervalo(9) == [0, 1, 2, 3, 4, 5, 6, 7, 8, 9, 8, 7, 6, 5, 4, 3, 2, 1, 0]"
      ],
      "execution_count": null,
      "outputs": []
    },
    {
      "cell_type": "markdown",
      "metadata": {
        "id": "CiRYAUnOKFSa"
      },
      "source": [
        "Iremos pegar o `range()` que é um gerador e passando para uma lista para poder compor os números que queremos e depois combinado as duas listas e gerando uma nova lista.<br />\n",
        "A função `range()` retorna uma série numérica no intervalo enviado como argumento.<br />\n",
        "A função `list()` nada mais é do que uma lista comum."
      ]
    },
    {
      "cell_type": "code",
      "metadata": {
        "colab": {
          "base_uri": "https://localhost:8080/"
        },
        "id": "ywv_eLzXhnZE",
        "outputId": "f481a55e-d871-48dc-f434-3ab3a0bad8fc"
      },
      "source": [
        "# função `intervalo`.\n",
        "def intervalo(n):\n",
        "  return list(range(n)) + list(range(n, -1, -1))\n",
        "\n",
        "# saída de dados esperada.\n",
        "assert intervalo(0) == [0]\n",
        "assert intervalo(1) == [0, 1, 0]\n",
        "assert intervalo(2) == [0, 1, 2, 1, 0]\n",
        "assert intervalo(9) == [0, 1, 2, 3, 4, 5, 6, 7, 8, 9, 8, 7, 6, 5, 4, 3, 2, 1, 0]\n",
        "\n",
        "list(range(2)) + list(range(2, -1, -1))"
      ],
      "execution_count": null,
      "outputs": [
        {
          "output_type": "execute_result",
          "data": {
            "text/plain": [
              "[0, 1, 2, 1, 0]"
            ]
          },
          "metadata": {},
          "execution_count": 17
        }
      ]
    },
    {
      "cell_type": "markdown",
      "metadata": {
        "id": "zz9WAAKxLgq2"
      },
      "source": [
        "### Lista literal\n",
        "\n",
        "Podemos passar a `lista literal` e dizer para ele que pega do range e desempacota o conteúdo do *range* dentro daquela lista."
      ]
    },
    {
      "cell_type": "code",
      "metadata": {
        "colab": {
          "base_uri": "https://localhost:8080/"
        },
        "id": "T509--yxje_C",
        "outputId": "77490309-2a4f-4aa6-a41d-e6002b85ed3d"
      },
      "source": [
        "# função `intervalo`.\n",
        "def intervalo(n):\n",
        "  # lista literal\n",
        "  return [*range(n), *range(n, -1, -1)]\n",
        "\n",
        "# saída de dados esperada.\n",
        "assert intervalo(0) == [0]\n",
        "assert intervalo(1) == [0, 1, 0]\n",
        "assert intervalo(2) == [0, 1, 2, 1, 0]\n",
        "assert intervalo(9) == [0, 1, 2, 3, 4, 5, 6, 7, 8, 9, 8, 7, 6, 5, 4, 3, 2, 1, 0]\n",
        "\n",
        "n = 2\n",
        "[*range(n), *range(n, -1, -1)]"
      ],
      "execution_count": null,
      "outputs": [
        {
          "output_type": "execute_result",
          "data": {
            "text/plain": [
              "[0, 1, 2, 1, 0]"
            ]
          },
          "metadata": {},
          "execution_count": 19
        }
      ]
    },
    {
      "cell_type": "markdown",
      "metadata": {
        "id": "UtsNrM0GkZ71"
      },
      "source": [
        "## Como transformar o intervalo em texto?"
      ]
    },
    {
      "cell_type": "markdown",
      "metadata": {
        "id": "BN461D1LQH2N"
      },
      "source": [
        "Podemos passar uma lista para cada número e inserindo a `string`. Assim estaremos concatenando string no loop."
      ]
    },
    {
      "cell_type": "code",
      "metadata": {
        "id": "odk4et3twz14",
        "colab": {
          "base_uri": "https://localhost:8080/",
          "height": 35
        },
        "outputId": "c2731852-12c7-4d41-ce17-cb17ac6fd6da"
      },
      "source": [
        "# função `text`.\n",
        "def text(numeros):\n",
        "  s = ''\n",
        "  for n in numeros:\n",
        "    s += str(n)\n",
        "  return s\n",
        "\n",
        "# saída de dados esperada.\n",
        "  assert text(intervalo(intervalo(2) == '01210'))\n",
        "\n",
        "# saída de dados.\n",
        "text(intervalo(2))"
      ],
      "execution_count": null,
      "outputs": [
        {
          "output_type": "execute_result",
          "data": {
            "application/vnd.google.colaboratory.intrinsic+json": {
              "type": "string"
            },
            "text/plain": [
              "'01210'"
            ]
          },
          "metadata": {},
          "execution_count": 21
        }
      ]
    },
    {
      "cell_type": "markdown",
      "metadata": {
        "id": "ykS95k8Ax4F2"
      },
      "source": [
        "String no Python é imutável, quando utiliza desta forma `s += str(n)` ele ira criando uma nova string temporária.<br />\n",
        "Em vez de concatenar `string` criar uma lista e colocar as `string` esta lista.<br />\n",
        "O método join() pega o tamanho de todo mundo, aloca um espaço só na memória e colocando cada pedacinho de uma vez só."
      ]
    },
    {
      "cell_type": "code",
      "metadata": {
        "id": "NJ_a6TU8Tc0H"
      },
      "source": [
        "# função `text`.\n",
        "def text(numeros):\n",
        "  l = []\n",
        "\n",
        "  for n in numeros:\n",
        "    l.append(str(n))\n",
        "\n",
        "  return ''.join(l)\n",
        "\n",
        "  # saída de dados esperada.\n",
        "  assert text(intervalo(intervalo(2) == '01210'))"
      ],
      "execution_count": null,
      "outputs": []
    },
    {
      "cell_type": "markdown",
      "metadata": {
        "id": "hLM_pE83Tz6R"
      },
      "source": [
        "# List Comprehension\n",
        "\n",
        "exemplo\n",
        "\n",
        "~~~python\n",
        "[x+1 for x in range(5) if x%2 ==2]\n",
        "~~~"
      ]
    },
    {
      "cell_type": "code",
      "metadata": {
        "id": "4eMz4WktygXe",
        "colab": {
          "base_uri": "https://localhost:8080/"
        },
        "outputId": "55f58328-55e2-4df4-a71e-52fd76ee77a7"
      },
      "source": [
        "# função `text`.\n",
        "def text(numeros):\n",
        "  l = [str(n) for n in numeros]\n",
        "\n",
        "  return ''.join(l)\n",
        "\n",
        "# saída de dados esperada.\n",
        "assert text(intervalo(intervalo(2) == '01210'))\n",
        "\n",
        "# saída de dados\n",
        "[str(n) for n in intervalo(2)]"
      ],
      "execution_count": null,
      "outputs": [
        {
          "output_type": "execute_result",
          "data": {
            "text/plain": [
              "['0', '1', '2', '1', '0']"
            ]
          },
          "metadata": {},
          "execution_count": 32
        }
      ]
    },
    {
      "cell_type": "markdown",
      "metadata": {
        "id": "6qVbLkrJXwe8"
      },
      "source": [
        "Passar `[str(n) for n in intervalo(2)]` direto para o `join()`."
      ]
    },
    {
      "cell_type": "code",
      "metadata": {
        "id": "GuTXP3SBz8OE",
        "colab": {
          "base_uri": "https://localhost:8080/",
          "height": 35
        },
        "outputId": "5419e53c-e97c-4110-a042-781c382e7770"
      },
      "source": [
        "# função `text`.\n",
        "def text(numeros):\n",
        "  return ''.join([str(n) for n in numeros])\n",
        "\n",
        "# saída de dados esperada.\n",
        "assert text(intervalo(intervalo(2) == '01210'))\n",
        "\n",
        "# saída de dados\n",
        "''.join([str(n) for n in intervalo(2)])"
      ],
      "execution_count": null,
      "outputs": [
        {
          "output_type": "execute_result",
          "data": {
            "application/vnd.google.colaboratory.intrinsic+json": {
              "type": "string"
            },
            "text/plain": [
              "'01210'"
            ]
          },
          "metadata": {},
          "execution_count": 30
        }
      ]
    },
    {
      "cell_type": "markdown",
      "metadata": {
        "id": "vxqAOVS_0dGf"
      },
      "source": [
        "### Generator Expressions\n",
        "\n",
        "Substituir `[]` por `()`.<br />\n",
        "Ao invés de criar uma lista em memória ele vai produzindo um item de cada vez, consumindo um espaço de memória em vez to espaço todos de uma lista."
      ]
    },
    {
      "cell_type": "code",
      "metadata": {
        "id": "kHBfxrlF0h0y",
        "colab": {
          "base_uri": "https://localhost:8080/",
          "height": 35
        },
        "outputId": "887d383b-88a9-4313-8fe7-ef2fc1e19aab"
      },
      "source": [
        "# função `text`.\n",
        "def text(numeros):\n",
        "  return ''.join((str(n) for n in numeros))\n",
        "\n",
        "# saída de dados esperada.\n",
        "assert text(intervalo(intervalo(2) == '01210'))\n",
        "\n",
        "# saída de dados\n",
        "''.join([str(n) for n in intervalo(2)])"
      ],
      "execution_count": null,
      "outputs": [
        {
          "output_type": "execute_result",
          "data": {
            "application/vnd.google.colaboratory.intrinsic+json": {
              "type": "string"
            },
            "text/plain": [
              "'01210'"
            ]
          },
          "metadata": {},
          "execution_count": 34
        }
      ]
    },
    {
      "cell_type": "markdown",
      "metadata": {
        "id": "5TJZ0xDu1e9A"
      },
      "source": [
        "O Python permite que omita os `()` generator Expressions. ficando assim o código return `''.join(str(n) for n in números)`."
      ]
    },
    {
      "cell_type": "code",
      "metadata": {
        "id": "0ITNuwmH2Br4",
        "colab": {
          "base_uri": "https://localhost:8080/",
          "height": 35
        },
        "outputId": "46ba77e4-4b59-4152-e7fc-67a70534212d"
      },
      "source": [
        "# função `text`.\n",
        "def text(numeros):\n",
        "  return ''.join(str(n) for n in numeros)\n",
        "\n",
        "# saída de dados esperada.\n",
        "assert text(intervalo(intervalo(2) == '01210'))\n",
        "\n",
        "# saída de dados\n",
        "centraliza(text(intervalo(1)), 5)"
      ],
      "execution_count": null,
      "outputs": [
        {
          "output_type": "execute_result",
          "data": {
            "application/vnd.google.colaboratory.intrinsic+json": {
              "type": "string"
            },
            "text/plain": [
              "' 010 '"
            ]
          },
          "metadata": {},
          "execution_count": 35
        }
      ]
    },
    {
      "cell_type": "markdown",
      "metadata": {
        "id": "xPEclgts2l4c"
      },
      "source": [
        "## Como gerar a linha em texto a parti do intervalo?"
      ]
    },
    {
      "cell_type": "code",
      "metadata": {
        "colab": {
          "base_uri": "https://localhost:8080/",
          "height": 35
        },
        "id": "a-x4Avfq2wQd",
        "outputId": "4a159cca-73a2-456a-bca2-c3643e77fb3e"
      },
      "source": [
        "# função `linha`.\n",
        "def linha(n, largura, separador=''):\n",
        "  return centraliza(text(intervalo(n)), largura, separador)\n",
        "\n",
        "# saída de dados esperada.\n",
        "assert linha(0, 5) == '  0  '\n",
        "assert linha(3, 7) == '0123210'\n",
        "\n",
        "# saída de dados\n",
        "linha(1, 7, ' ')"
      ],
      "execution_count": null,
      "outputs": [
        {
          "output_type": "execute_result",
          "data": {
            "application/vnd.google.colaboratory.intrinsic+json": {
              "type": "string"
            },
            "text/plain": [
              "'  010  '"
            ]
          },
          "metadata": {},
          "execution_count": 41
        }
      ]
    },
    {
      "cell_type": "markdown",
      "metadata": {
        "id": "Rvg8kAju6N2E"
      },
      "source": [
        "### Interact\n",
        "A função interact (ipywidgets.interact) cria automaticamente controles de interface de usuário (UI) para explorar código e dados interativamente. É a maneira mais fácil de começar a usar os widgets do IPython."
      ]
    },
    {
      "cell_type": "code",
      "metadata": {
        "id": "P_lsP1ei51bY"
      },
      "source": [
        "# import\n",
        "from ipywidgets import interact"
      ],
      "execution_count": null,
      "outputs": []
    },
    {
      "cell_type": "code",
      "metadata": {
        "colab": {
          "base_uri": "https://localhost:8080/",
          "height": 149,
          "referenced_widgets": [
            "d382b75aa7764c3cb194e1f8c6a5a8d2",
            "52df744108e346dfb495ae8eded72e18",
            "58a0032fc0624b0282557cf43716f275",
            "5a1654fb9c29493ab9d2d5eff08f3bfd",
            "044b410135914037825e4be622ee54a2",
            "7a230c0da3514e17b5c3f09905cdc117",
            "a45898ad97654dd4ab6fa9a7f630ccf4",
            "6a1692b103394eef823e255e1f9fd6b2",
            "59ab5623e20045b7afb3339d936cc7e7",
            "9b8c53b442b04c12868b121999f80a57",
            "d33a553ead294f509024a6e607450b1b",
            "29e31315360a4aef94a0858010c4e601",
            "893e8abec97d46df8e5710876a708407"
          ]
        },
        "id": "5sOIzJwm3b34",
        "outputId": "c1ab4d46-1981-4906-b49d-aedfc54a9f4b"
      },
      "source": [
        "interact(linha, n=(0, 9, 1), largura=(0, 9*2+1, 1))"
      ],
      "execution_count": null,
      "outputs": [
        {
          "output_type": "display_data",
          "data": {
            "application/vnd.jupyter.widget-view+json": {
              "model_id": "d382b75aa7764c3cb194e1f8c6a5a8d2",
              "version_minor": 0,
              "version_major": 2
            },
            "text/plain": [
              "interactive(children=(IntSlider(value=4, description='n', max=9), IntSlider(value=9, description='largura', ma…"
            ]
          },
          "metadata": {}
        },
        {
          "output_type": "execute_result",
          "data": {
            "text/plain": [
              "<function __main__.linha>"
            ]
          },
          "metadata": {},
          "execution_count": 45
        }
      ]
    },
    {
      "cell_type": "markdown",
      "metadata": {
        "id": "2OyeUhLb6q4z"
      },
      "source": [
        "## Como gerar o losango com uma pilha de linhas?"
      ]
    },
    {
      "cell_type": "code",
      "metadata": {
        "id": "alAppSNF6k0n",
        "colab": {
          "base_uri": "https://localhost:8080/"
        },
        "outputId": "0b57b804-2b99-40be-c19c-80b4db9eb436"
      },
      "source": [
        "# função `losango`.\n",
        "def losango(tamanho):\n",
        "  largura = tamanho * 2 + 1\n",
        "\n",
        "  numeros = intervalo(tamanho)\n",
        "  linhas = []\n",
        "\n",
        "  for n in numeros:\n",
        "    linhas.append(linha(n, largura))\n",
        "\n",
        "  return '\\n'.join(linhas)\n",
        "\n",
        "# saída de dados esperada.\n",
        "assert losango(2) == (\n",
        "'  0  \\n'\n",
        "' 010 \\n'\n",
        "'01210\\n'\n",
        "' 010 \\n'\n",
        "'  0  '\n",
        ")\n",
        "\n",
        "# saída de dados\n",
        "print(losango(2))"
      ],
      "execution_count": null,
      "outputs": [
        {
          "output_type": "stream",
          "name": "stdout",
          "text": [
            "  0  \n",
            " 010 \n",
            "01210\n",
            " 010 \n",
            "  0  \n"
          ]
        }
      ]
    },
    {
      "cell_type": "markdown",
      "metadata": {
        "id": "Ybq4rcvKd2rF"
      },
      "source": [
        "### Interact\n",
        "Neste caso como o `interact` retorna uma string é preciso fazer um `print`, criando uma função anônima `lambda`."
      ]
    },
    {
      "cell_type": "code",
      "metadata": {
        "colab": {
          "base_uri": "https://localhost:8080/",
          "height": 223,
          "referenced_widgets": [
            "2582e4cd85674dffbae6eb178eefbc9e",
            "ac0c38a8b5bf407e8cfd0d5fc8969fc5",
            "e49a25226f584de5a635506118e91528",
            "e71acd6a10c7476d930fe419dbe34496",
            "e542ae5663a94f8a8552eece107541b5",
            "8b6301c968dd4e2f8edbd76d23682581",
            "dba002267ed940e1b0b71c2ce5be3d0a"
          ]
        },
        "id": "eEAPU79S9ebI",
        "outputId": "a7edf2c1-8373-40c4-874d-e83931db4afb"
      },
      "source": [
        "interact(lambda n: print(losango(n)), n=(0, 9, 1))"
      ],
      "execution_count": null,
      "outputs": [
        {
          "output_type": "display_data",
          "data": {
            "application/vnd.jupyter.widget-view+json": {
              "model_id": "2582e4cd85674dffbae6eb178eefbc9e",
              "version_minor": 0,
              "version_major": 2
            },
            "text/plain": [
              "interactive(children=(IntSlider(value=4, description='n', max=9), Output()), _dom_classes=('widget-interact',)…"
            ]
          },
          "metadata": {}
        },
        {
          "output_type": "execute_result",
          "data": {
            "text/plain": [
              "<function __main__.<lambda>>"
            ]
          },
          "metadata": {},
          "execution_count": 49
        }
      ]
    },
    {
      "cell_type": "markdown",
      "metadata": {
        "id": "Dk2ZihJJezD7"
      },
      "source": [
        "### Melhorias"
      ]
    },
    {
      "cell_type": "code",
      "metadata": {
        "colab": {
          "base_uri": "https://localhost:8080/",
          "height": 327,
          "referenced_widgets": [
            "74881263da384760af5b0813910bfde4",
            "72b5868ea1d64e55ac9d9901388af214",
            "eabb52f4978a426ca1e8cdf1b25ecbee",
            "43252c010c1d432f89fdaf06f134c8a7",
            "b0d1a1992396429d8826cf0358532864",
            "70269fa802324f0d8cce2a708385b9b5",
            "b326ea6556684d4a971b1ad94a66926d"
          ]
        },
        "id": "i96dIqgz-Gub",
        "outputId": "0fa2cbe0-6780-43ba-8f19-5322a0f2d5d5"
      },
      "source": [
        "# função `losango`.\n",
        "def losango(tamanho):\n",
        "  largura = tamanho * 2 + 1\n",
        "  return '\\n'.join(linha(n, largura) for n in intervalo(tamanho))\n",
        "\n",
        "# saída de dados esperada.\n",
        "assert losango(2) == (\n",
        "'  0  \\n'\n",
        "' 010 \\n'\n",
        "'01210\\n'\n",
        "' 010 \\n'\n",
        "'  0  '\n",
        ")\n",
        "\n",
        "# saída de dados\n",
        "interact(lambda n: print(losango(n)), n=(0, 9, 1))"
      ],
      "execution_count": null,
      "outputs": [
        {
          "output_type": "display_data",
          "data": {
            "application/vnd.jupyter.widget-view+json": {
              "model_id": "74881263da384760af5b0813910bfde4",
              "version_minor": 0,
              "version_major": 2
            },
            "text/plain": [
              "interactive(children=(IntSlider(value=4, description='n', max=9), Output()), _dom_classes=('widget-interact',)…"
            ]
          },
          "metadata": {}
        },
        {
          "output_type": "execute_result",
          "data": {
            "text/plain": [
              "<function __main__.<lambda>>"
            ]
          },
          "metadata": {},
          "execution_count": 50
        }
      ]
    },
    {
      "cell_type": "markdown",
      "metadata": {
        "id": "HqM2ZfdE-6Aj"
      },
      "source": [
        "# Como fica tudo junto?"
      ]
    },
    {
      "cell_type": "code",
      "metadata": {
        "id": "fB15jVCv-5DI"
      },
      "source": [
        "def intervalo(n):\n",
        "  return (*range(n), *range(n, -1, -1))\n",
        "\n",
        "def centraliza(texto, largura, separador=' '):\n",
        "  return f'{texto:{separador}^{largura}}'\n",
        "\n",
        "def texto(numeros):\n",
        "  return ''.join(str(n) for n in numeros)\n",
        "\n",
        "def linha (n, largura, sep=''):\n",
        "  return centraliza(text(intervalo(n)), largura, sep)\n",
        "\n",
        "def losango(n, separador=' '):\n",
        "  largura = n * 2 + 1\n",
        "\n",
        "  return '\\n'.join(linha(n, largura, separador) for n in intervalo(n))\n",
        "\n",
        "\n",
        "assert centraliza('0', 5) == '  0  '\n",
        "assert centraliza('010', 5) == ' 010 '\n",
        "assert centraliza('01210', 5) == '01210'\n",
        "\n",
        "assert intervalo(0) == (0,)\n",
        "assert intervalo(1) == (0, 1, 0)\n",
        "assert intervalo(2) == (0, 1, 2, 1, 0)\n",
        "assert intervalo(9) == (0, 1, 2, 3, 4, 5, 6, 7, 8, 9, 8, 7, 6, 5, 4, 3, 2, 1, 0)\n",
        "\n",
        "assert texto(intervalo(2)) == '01210'\n",
        "\n",
        "assert linha(3, largura=7) == '0123210'\n",
        "assert linha(0, largura=7) == '   0   '\n",
        "\n",
        "assert losango(2) == (\n",
        "'  0  \\n'\n",
        "' 010 \\n'\n",
        "'01210\\n'\n",
        "' 010 \\n'\n",
        "'  0  '\n",
        ")"
      ],
      "execution_count": null,
      "outputs": []
    },
    {
      "cell_type": "code",
      "metadata": {
        "colab": {
          "base_uri": "https://localhost:8080/",
          "height": 255,
          "referenced_widgets": [
            "f702ef2b2fdb4d17a97d927e55c4dcbb",
            "9b4917a1873c4e6998e4c830c2f03e09",
            "d815b779d066449ab07eb25710d2c9d7",
            "20246ee1daa0472284c2e6d752948ed5",
            "42e622b4abd84adbb854114e5f7c34f0",
            "82fd8e7b71d24db9a66d69568b69e8d6",
            "8cc9f83c2ed24e3ca9887178c4a0d5a1",
            "80b19750d6534c1d8e40f3569563b7f3",
            "0b27b3e39b6241958e446e39808a9114",
            "14b51fe59f2245e698bd17a8ddf333c0"
          ]
        },
        "id": "FnWejU2cFpX6",
        "outputId": "9e618bb7-885a-4b15-db15-8424c1be4f3b"
      },
      "source": [
        "# Losango\n",
        "interact(lambda n, sep: print(losango(n, sep)), n=(0, 9, 1), sep='')"
      ],
      "execution_count": null,
      "outputs": [
        {
          "output_type": "display_data",
          "data": {
            "application/vnd.jupyter.widget-view+json": {
              "model_id": "f702ef2b2fdb4d17a97d927e55c4dcbb",
              "version_minor": 0,
              "version_major": 2
            },
            "text/plain": [
              "interactive(children=(IntSlider(value=4, description='n', max=9), Text(value='', description='sep'), Output())…"
            ]
          },
          "metadata": {}
        },
        {
          "output_type": "execute_result",
          "data": {
            "text/plain": [
              "<function __main__.<lambda>>"
            ]
          },
          "metadata": {},
          "execution_count": 55
        }
      ]
    },
    {
      "cell_type": "markdown",
      "metadata": {
        "id": "z2IFQ8fGEPJt"
      },
      "source": [
        "**Links:**\n",
        "\n",
        "* [Henrique Bastos](https://henriquebastos.net/)"
      ]
    }
  ]
}